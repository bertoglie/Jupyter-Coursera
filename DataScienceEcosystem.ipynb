{
 "cells": [
  {
   "cell_type": "markdown",
   "id": "98edd6e1-4757-4267-996a-c485e3d22f25",
   "metadata": {},
   "source": [
    "# Data Science Tools and Ecosystem"
   ]
  },
  {
   "cell_type": "markdown",
   "id": "442c58e4-cd89-4f7e-a049-b05522267721",
   "metadata": {},
   "source": [
    "In this notebook, Data Science Tools and Ecosystem are summarized."
   ]
  },
  {
   "cell_type": "markdown",
   "id": "ebbe48d3-3eb7-49fa-8e1d-bd4d840f87b1",
   "metadata": {},
   "source": [
    "**Objectives:**\n",
    "- languages used by Data Scientists\n",
    "- libraries used by Data Scientists\n",
    "- examples of evaluating arithmetic expressions in Python"
   ]
  },
  {
   "cell_type": "markdown",
   "id": "738c06c7-d4a0-4236-ab1a-3ed2e64afd48",
   "metadata": {},
   "source": [
    "Some of the popular languages that Data Scientists use are:\n",
    "1. python\n",
    "2. c++\n",
    "3. R"
   ]
  },
  {
   "cell_type": "markdown",
   "id": "ad5418d0-3a9d-4164-a475-275433c0ae54",
   "metadata": {},
   "source": [
    "Some of the commonly used libraries used by Data Scientists include:\n",
    "1. pandas\n",
    "2. NumPy\n",
    "3. Matplotlib"
   ]
  },
  {
   "cell_type": "markdown",
   "id": "bb71f004-efb2-472e-8f00-a40966412e6e",
   "metadata": {},
   "source": [
    "| Data Science Tools |\n",
    "| --------- |\n",
    "| Jupyter |\n",
    "| Apache Spark |\n",
    "| Apache Hadoop |\n",
    "| RStudio |"
   ]
  },
  {
   "cell_type": "markdown",
   "id": "d15df8de-42b5-49c0-ab68-1d5e7fcfc35b",
   "metadata": {},
   "source": [
    "### Below are a few examples of evaluating arithmetic expressions in Python"
   ]
  },
  {
   "cell_type": "code",
   "execution_count": 2,
   "id": "9d18dcea-bc08-4999-a4fc-96b01e9004c9",
   "metadata": {
    "scrolled": true
   },
   "outputs": [
    {
     "data": {
      "text/plain": [
       "17"
      ]
     },
     "execution_count": 2,
     "metadata": {},
     "output_type": "execute_result"
    }
   ],
   "source": [
    "# This a simple arithmetic expression to mutiply then add integers #\n",
    "(3*4)+5"
   ]
  },
  {
   "cell_type": "code",
   "execution_count": 7,
   "id": "45b88f71-1277-464f-83f9-729abfd44e98",
   "metadata": {},
   "outputs": [
    {
     "data": {
      "text/plain": [
       "3.3333333333333335"
      ]
     },
     "execution_count": 7,
     "metadata": {},
     "output_type": "execute_result"
    }
   ],
   "source": [
    "#  This will convert 200 minutes to hours by diving by 60 #\n",
    "200 / 60"
   ]
  },
  {
   "cell_type": "markdown",
   "id": "05a9db9c-0f9d-4de5-a93a-45366c1a9c54",
   "metadata": {},
   "source": [
    "**Author**\n",
    "Erica B"
   ]
  },
  {
   "cell_type": "code",
   "execution_count": null,
   "id": "59378960-aaf3-4c85-ab13-55a2074ab184",
   "metadata": {},
   "outputs": [],
   "source": []
  }
 ],
 "metadata": {
  "kernelspec": {
   "display_name": "Python 3 (ipykernel)",
   "language": "python",
   "name": "python3"
  },
  "language_info": {
   "codemirror_mode": {
    "name": "ipython",
    "version": 3
   },
   "file_extension": ".py",
   "mimetype": "text/x-python",
   "name": "python",
   "nbconvert_exporter": "python",
   "pygments_lexer": "ipython3",
   "version": "3.12.4"
  }
 },
 "nbformat": 4,
 "nbformat_minor": 5
}
